{
 "cells": [
  {
   "cell_type": "code",
   "execution_count": 1,
   "metadata": {},
   "outputs": [],
   "source": [
    "import numpy as np\n",
    "from MainFunctions import *\n",
    "import matplotlib.pyplot as plt\n",
    "import numpy as np\n",
    "import torch\n",
    "import torch.nn as nn\n",
    "import torchvision.transforms as transforms"
   ]
  },
  {
   "cell_type": "code",
   "execution_count": 2,
   "metadata": {},
   "outputs": [
    {
     "name": "stdout",
     "output_type": "stream",
     "text": [
      "1024\n"
     ]
    }
   ],
   "source": [
    "#original 512 x 512\n",
    "i_width = 32\n",
    "i_height = 32\n",
    "input_shape = i_width*i_height\n",
    "print(input_shape)"
   ]
  },
  {
   "cell_type": "code",
   "execution_count": 3,
   "metadata": {},
   "outputs": [],
   "source": [
    "x_trn = []\n",
    "x_tst = []\n",
    "\n",
    "AddImageToArray(x_trn ,'DICOM\\skulls\\skull8', (i_width, i_height))\n",
    "AddImageToArray(x_tst ,'DICOM\\PA5\\ST1\\SE4', (i_width, i_height))\n",
    "\n",
    "x_trn = np.array(x_trn, np.float32)\n",
    "x_tst = np.array(x_tst, np.float32)"
   ]
  },
  {
   "cell_type": "code",
   "execution_count": 4,
   "metadata": {},
   "outputs": [
    {
     "name": "stdout",
     "output_type": "stream",
     "text": [
      "1422.8953\n",
      "234\n",
      "(234, 32, 32)\n",
      "0.18031381\n"
     ]
    }
   ],
   "source": [
    "max_value = np.max(x_trn)\n",
    "print(max_value)\n",
    "x_trn /= max_value\n",
    "x_tst /= max_value\n",
    "\n",
    "showing_ratio = 0.05\n",
    "y_trn = np.where(x_trn > showing_ratio, 1.0, 0.0)\n",
    "y_trn = np.array(y_trn, np.float32)\n",
    "\n",
    "print(len(x_trn ))\n",
    "print(x_trn.shape)\n",
    "print(x_trn[0].max())"
   ]
  },
  {
   "cell_type": "code",
   "execution_count": 5,
   "metadata": {},
   "outputs": [
    {
     "data": {
      "image/png": "[encoded data removed]",
      "text/plain": [
       "<Figure size 2500x2500 with 4 Axes>"
      ]
     },
     "metadata": {},
     "output_type": "display_data"
    }
   ],
   "source": [
    "plt.figure(figsize=(25,25))\n",
    "DrawImages(y_trn, 4, (5,5), 40)"
   ]
  },
  {
   "cell_type": "code",
   "execution_count": 52,
   "metadata": {},
   "outputs": [],
   "source": [
    "class conv_block(nn.Module):\n",
    "    def __init__(self, in_c, out_c):\n",
    "        super().__init__()\n",
    "        self.conv1 = nn.Conv2d(in_c, out_c, kernel_size=3, padding=1)\n",
    "        self.bn1 = nn.BatchNorm2d(out_c)\n",
    "        self.conv2 = nn.Conv2d(out_c, out_c, kernel_size=3, padding=1)\n",
    "        self.bn2 = nn.BatchNorm2d(out_c)\n",
    "        self.relu = nn.ReLU()\n",
    "\n",
    "    def forward(self, inputs):\n",
    "        x = self.conv1(inputs)\n",
    "        x = self.bn1(x)\n",
    "        x = self.conv2(x)\n",
    "        x = self.bn2(x)\n",
    "        x = self.relu(x)\n",
    "        return x\n",
    "\n",
    "class encoder_block(nn.Module):\n",
    "    def __init__(self, in_c, out_c):\n",
    "        super().__init__()\n",
    "        self.conv = conv_block(in_c, out_c)\n",
    "        self.pool = nn.MaxPool2d((2, 2))\n",
    "    def forward(self, inputs):\n",
    "        x = self.conv(inputs)\n",
    "        p = self.pool(x)\n",
    "        return x, p\n",
    "    \n",
    "class decoder_block(nn.Module):\n",
    "    def __init__(self, in_c, out_c):\n",
    "        super().__init__()\n",
    "        self.up = nn.ConvTranspose2d(in_c, out_c, kernel_size=2, stride=2, padding=0)\n",
    "        self.conv = conv_block(out_c+out_c, out_c)\n",
    "    def forward(self, inputs, skip):\n",
    "        x = self.up(inputs)\n",
    "        x = torch.cat([x, skip], axis=1)\n",
    "        x = self.conv(x)\n",
    "        return x\n",
    "    \n",
    "class offset_block(nn.Module):\n",
    "    def __init__(self, in_c):\n",
    "        super().__init__()\n",
    "        self.max_pool = nn.MaxPool2d(kernel_size=2,)\n",
    "        self.dropout = nn.Dropout(p=0.2)\n",
    "        self.flatten = nn.Flatten()\n",
    "        self.fully_connected = nn.Linear(512, input_shape)\n",
    "        self.sigmoid = nn.Sigmoid()\n",
    "    def forward(self, inputs):\n",
    "        x = self.max_pool(inputs)\n",
    "        x = self.dropout(x)\n",
    "        x = self.flatten(x)\n",
    "        x = self.fully_connected(x)\n",
    "        x = self.sigmoid(x)\n",
    "        return x"
   ]
  },
  {
   "cell_type": "code",
   "execution_count": 53,
   "metadata": {},
   "outputs": [],
   "source": [
    "class build_unet(nn.Module):\n",
    "    def __init__(self):\n",
    "        super().__init__()\n",
    "        \"\"\" Encoder \"\"\"\n",
    "        self.e0 = encoder_block(1, 32)\n",
    "        self.e1 = encoder_block(32, 64)\n",
    "        self.e2 = encoder_block(64, 128)\n",
    "        self.e3 = encoder_block(128, 256)\n",
    "        \"\"\" Bottleneck \"\"\"\n",
    "        self.b1 = conv_block(256, 512)\n",
    "        self.b2 = conv_block(512, 512)\n",
    "        \"\"\"OffsetClassification\"\"\"\n",
    "        self.off = offset_block(512)\n",
    "        \"\"\" Decoder \"\"\"\n",
    "        self.d2 = decoder_block(512, 256)\n",
    "        self.d3 = decoder_block(256, 128)\n",
    "        self.d4 = decoder_block(128, 64)\n",
    "        self.d5 = decoder_block(64, 32)\n",
    "        \"\"\" Classifier \"\"\"\n",
    "        self.outputs1 = nn.Conv2d(32, 32, kernel_size=1, padding=0)\n",
    "        self.outputs2 = nn.Conv2d(32, 1, kernel_size=1, padding=0)\n",
    "        self.sigmoid = nn.Sigmoid()\n",
    "    def forward(self, inputs):\n",
    "        \"\"\" Encoder \"\"\"\n",
    "        s0, p0 = self.e0(inputs)\n",
    "        s1, p1 = self.e1(p0)\n",
    "        s2, p2 = self.e2(p1)\n",
    "        s3, p3 = self.e3(p2)\n",
    "        \"\"\" Bottleneck \"\"\"\n",
    "        b1 = self.b1(p3)\n",
    "        b2 = self.b2(b1)\n",
    "        \"\"\"OffsetClassification\"\"\"\n",
    "        off = self.off(b2)\n",
    "        off = off.view(-1, i_height, i_width)\n",
    "        \"\"\" Decoder \"\"\"\n",
    "        d2 = self.d2(b2, s3)\n",
    "        d3 = self.d3(d2,s2)\n",
    "        d4 = self.d4(d3,s1)\n",
    "        d5 = self.d5(d4, s0)\n",
    "        \"\"\" Classifier \"\"\"\n",
    "        outputs = self.outputs1(d5)\n",
    "        outputs = self.outputs2(outputs)\n",
    "        outputs = self.sigmoid(outputs)\n",
    "        return off + outputs"
   ]
  },
  {
   "cell_type": "code",
   "execution_count": 54,
   "metadata": {},
   "outputs": [],
   "source": [
    "#use gpu if available\n",
    "device = torch.device(\"cuda\" if torch.cuda.is_available() else \"cpu\")\n",
    "\n",
    "# create a model from `AE` autoencoder class\n",
    "# load it to the specified device, either gpu or cpu\n",
    "model = build_unet().to(device)\n",
    "\n",
    "# create an optimizer object\n",
    "# Adam optimizer with learning rate 1e-3\n",
    "optimizer = torch.optim.Adagrad(model.parameters(), lr=1e-3)\n",
    "\n",
    "# mean-squared error loss\n",
    "criterion = nn.MSELoss()"
   ]
  },
  {
   "cell_type": "code",
   "execution_count": 55,
   "metadata": {},
   "outputs": [],
   "source": [
    "def train(epochs, model, criterion, optimizer, train_loader, eps):\n",
    "    for epoch in range(epochs):\n",
    "        loss = 0\n",
    "        for batch_features, targets in train_loader:\n",
    "\n",
    "            batch_features = batch_features.view(-1, 1, i_height, i_width).to(device) #.view(-1, 1, i_height, i_width)\n",
    "            targets = targets.view(-1, 1, i_height, i_width).to(device)\n",
    "            optimizer.zero_grad()\n",
    "            \n",
    "            # compute reconstructions\n",
    "            outputs = model(batch_features)\n",
    "            # compute training reconstruction loss\n",
    "            train_loss = criterion(outputs, targets)\n",
    "            \n",
    "            # compute accumulated gradients\n",
    "            train_loss.backward()\n",
    "            \n",
    "            # perform parameter update based on current gradients\n",
    "            optimizer.step()\n",
    "            \n",
    "            # add the mini-batch training loss to epoch loss\n",
    "            loss += train_loss.item()\n",
    "        \n",
    "        # compute the epoch training loss\n",
    "        loss = loss / len(train_loader)\n",
    "        \n",
    "        # display the epoch training loss\n",
    "        print(\"epoch : {}/{}, loss = {:.6f}\".format(epoch + 1, epochs, loss))\n",
    "        if loss < eps:\n",
    "            break\n",
    "    \n",
    "    return model"
   ]
  },
  {
   "cell_type": "code",
   "execution_count": 56,
   "metadata": {},
   "outputs": [],
   "source": [
    "train_loader = torch.utils.data.DataLoader(\n",
    "    (x_trn, x_trn), batch_size=64, shuffle=True\n",
    ")\n",
    "\n",
    "test_loader = torch.utils.data.DataLoader(\n",
    "    x_trn, batch_size=32, shuffle=False\n",
    ")"
   ]
  },
  {
   "cell_type": "code",
   "execution_count": 57,
   "metadata": {},
   "outputs": [
    {
     "name": "stdout",
     "output_type": "stream",
     "text": [
      "epoch : 1/1000, loss = 2.561887\n",
      "epoch : 2/1000, loss = 2.063009\n",
      "epoch : 3/1000, loss = 1.730243\n",
      "epoch : 4/1000, loss = 1.490948\n",
      "epoch : 5/1000, loss = 1.357818\n",
      "epoch : 6/1000, loss = 1.278059\n",
      "epoch : 7/1000, loss = 1.226414\n",
      "epoch : 8/1000, loss = 1.188182\n",
      "epoch : 9/1000, loss = 1.158938\n",
      "epoch : 10/1000, loss = 1.136915\n",
      "epoch : 11/1000, loss = 1.116997\n",
      "epoch : 12/1000, loss = 1.099955\n",
      "epoch : 13/1000, loss = 1.085391\n",
      "epoch : 14/1000, loss = 1.071338\n",
      "epoch : 15/1000, loss = 1.059610\n",
      "epoch : 16/1000, loss = 1.049487\n",
      "epoch : 17/1000, loss = 1.038555\n",
      "epoch : 18/1000, loss = 1.030050\n",
      "epoch : 19/1000, loss = 1.021102\n",
      "epoch : 20/1000, loss = 1.012064\n",
      "epoch : 21/1000, loss = 1.004562\n",
      "epoch : 22/1000, loss = 0.997871\n",
      "epoch : 23/1000, loss = 0.990611\n",
      "epoch : 24/1000, loss = 0.984254\n",
      "epoch : 25/1000, loss = 0.977723\n",
      "epoch : 26/1000, loss = 0.972613\n",
      "epoch : 27/1000, loss = 0.966149\n",
      "epoch : 28/1000, loss = 0.961154\n",
      "epoch : 29/1000, loss = 0.955875\n",
      "epoch : 30/1000, loss = 0.950748\n",
      "epoch : 31/1000, loss = 0.945020\n",
      "epoch : 32/1000, loss = 0.940693\n",
      "epoch : 33/1000, loss = 0.935702\n",
      "epoch : 34/1000, loss = 0.931029\n",
      "epoch : 35/1000, loss = 0.926458\n",
      "epoch : 36/1000, loss = 0.922504\n",
      "epoch : 37/1000, loss = 0.917908\n",
      "epoch : 38/1000, loss = 0.913649\n",
      "epoch : 39/1000, loss = 0.910020\n",
      "epoch : 40/1000, loss = 0.906285\n",
      "epoch : 41/1000, loss = 0.902581\n",
      "epoch : 42/1000, loss = 0.898922\n",
      "epoch : 43/1000, loss = 0.895339\n",
      "epoch : 44/1000, loss = 0.892060\n",
      "epoch : 45/1000, loss = 0.888325\n",
      "epoch : 46/1000, loss = 0.885038\n",
      "epoch : 47/1000, loss = 0.881673\n",
      "epoch : 48/1000, loss = 0.878310\n",
      "epoch : 49/1000, loss = 0.875081\n",
      "epoch : 50/1000, loss = 0.871995\n",
      "epoch : 51/1000, loss = 0.868954\n",
      "epoch : 52/1000, loss = 0.865685\n",
      "epoch : 53/1000, loss = 0.862814\n",
      "epoch : 54/1000, loss = 0.859697\n",
      "epoch : 55/1000, loss = 0.857267\n",
      "epoch : 56/1000, loss = 0.854335\n",
      "epoch : 57/1000, loss = 0.851716\n",
      "epoch : 58/1000, loss = 0.848808\n",
      "epoch : 59/1000, loss = 0.846146\n",
      "epoch : 60/1000, loss = 0.843928\n",
      "epoch : 61/1000, loss = 0.841368\n",
      "epoch : 62/1000, loss = 0.838680\n",
      "epoch : 63/1000, loss = 0.836096\n",
      "epoch : 64/1000, loss = 0.833319\n",
      "epoch : 65/1000, loss = 0.830900\n",
      "epoch : 66/1000, loss = 0.828439\n",
      "epoch : 67/1000, loss = 0.825983\n",
      "epoch : 68/1000, loss = 0.823353\n",
      "epoch : 69/1000, loss = 0.821150\n",
      "epoch : 70/1000, loss = 0.818875\n",
      "epoch : 71/1000, loss = 0.816279\n",
      "epoch : 72/1000, loss = 0.814171\n",
      "epoch : 73/1000, loss = 0.812065\n",
      "epoch : 74/1000, loss = 0.809858\n",
      "epoch : 75/1000, loss = 0.807693\n",
      "epoch : 76/1000, loss = 0.805674\n",
      "epoch : 77/1000, loss = 0.803586\n",
      "epoch : 78/1000, loss = 0.801404\n",
      "epoch : 79/1000, loss = 0.799300\n",
      "epoch : 80/1000, loss = 0.797245\n",
      "epoch : 81/1000, loss = 0.795222\n",
      "epoch : 82/1000, loss = 0.793110\n",
      "epoch : 83/1000, loss = 0.791093\n",
      "epoch : 84/1000, loss = 0.789170\n",
      "epoch : 85/1000, loss = 0.787030\n",
      "epoch : 86/1000, loss = 0.785329\n",
      "epoch : 87/1000, loss = 0.783431\n",
      "epoch : 88/1000, loss = 0.781532\n",
      "epoch : 89/1000, loss = 0.779686\n",
      "epoch : 90/1000, loss = 0.777807\n",
      "epoch : 91/1000, loss = 0.776144\n",
      "epoch : 92/1000, loss = 0.774239\n",
      "epoch : 93/1000, loss = 0.772471\n"
     ]
    },
    {
     "ename": "KeyboardInterrupt",
     "evalue": "",
     "output_type": "error",
     "traceback": [
      "\u001b[1;31m---------------------------------------------------------------------------\u001b[0m",
      "\u001b[1;31mKeyboardInterrupt\u001b[0m                         Traceback (most recent call last)",
      "Cell \u001b[1;32mIn[57], line 1\u001b[0m\n\u001b[1;32m----> 1\u001b[0m model \u001b[39m=\u001b[39m train(\u001b[39m1000\u001b[39;49m, model, criterion, optimizer, train_loader, \u001b[39m0.003\u001b[39;49m)\n",
      "Cell \u001b[1;32mIn[55], line 16\u001b[0m, in \u001b[0;36mtrain\u001b[1;34m(epochs, model, criterion, optimizer, train_loader, eps)\u001b[0m\n\u001b[0;32m     13\u001b[0m train_loss \u001b[39m=\u001b[39m criterion(outputs, targets)\n\u001b[0;32m     15\u001b[0m \u001b[39m# compute accumulated gradients\u001b[39;00m\n\u001b[1;32m---> 16\u001b[0m train_loss\u001b[39m.\u001b[39;49mbackward()\n\u001b[0;32m     18\u001b[0m \u001b[39m# perform parameter update based on current gradients\u001b[39;00m\n\u001b[0;32m     19\u001b[0m optimizer\u001b[39m.\u001b[39mstep()\n",
      "File \u001b[1;32mc:\\Users\\ivan_\\AppData\\Local\\Programs\\Python\\Python310\\lib\\site-packages\\torch\\_tensor.py:488\u001b[0m, in \u001b[0;36mTensor.backward\u001b[1;34m(self, gradient, retain_graph, create_graph, inputs)\u001b[0m\n\u001b[0;32m    478\u001b[0m \u001b[39mif\u001b[39;00m has_torch_function_unary(\u001b[39mself\u001b[39m):\n\u001b[0;32m    479\u001b[0m     \u001b[39mreturn\u001b[39;00m handle_torch_function(\n\u001b[0;32m    480\u001b[0m         Tensor\u001b[39m.\u001b[39mbackward,\n\u001b[0;32m    481\u001b[0m         (\u001b[39mself\u001b[39m,),\n\u001b[1;32m   (...)\u001b[0m\n\u001b[0;32m    486\u001b[0m         inputs\u001b[39m=\u001b[39minputs,\n\u001b[0;32m    487\u001b[0m     )\n\u001b[1;32m--> 488\u001b[0m torch\u001b[39m.\u001b[39;49mautograd\u001b[39m.\u001b[39;49mbackward(\n\u001b[0;32m    489\u001b[0m     \u001b[39mself\u001b[39;49m, gradient, retain_graph, create_graph, inputs\u001b[39m=\u001b[39;49minputs\n\u001b[0;32m    490\u001b[0m )\n",
      "File \u001b[1;32mc:\\Users\\ivan_\\AppData\\Local\\Programs\\Python\\Python310\\lib\\site-packages\\torch\\autograd\\__init__.py:197\u001b[0m, in \u001b[0;36mbackward\u001b[1;34m(tensors, grad_tensors, retain_graph, create_graph, grad_variables, inputs)\u001b[0m\n\u001b[0;32m    192\u001b[0m     retain_graph \u001b[39m=\u001b[39m create_graph\n\u001b[0;32m    194\u001b[0m \u001b[39m# The reason we repeat same the comment below is that\u001b[39;00m\n\u001b[0;32m    195\u001b[0m \u001b[39m# some Python versions print out the first line of a multi-line function\u001b[39;00m\n\u001b[0;32m    196\u001b[0m \u001b[39m# calls in the traceback and some print out the last line\u001b[39;00m\n\u001b[1;32m--> 197\u001b[0m Variable\u001b[39m.\u001b[39;49m_execution_engine\u001b[39m.\u001b[39;49mrun_backward(  \u001b[39m# Calls into the C++ engine to run the backward pass\u001b[39;49;00m\n\u001b[0;32m    198\u001b[0m     tensors, grad_tensors_, retain_graph, create_graph, inputs,\n\u001b[0;32m    199\u001b[0m     allow_unreachable\u001b[39m=\u001b[39;49m\u001b[39mTrue\u001b[39;49;00m, accumulate_grad\u001b[39m=\u001b[39;49m\u001b[39mTrue\u001b[39;49;00m)\n",
      "\u001b[1;31mKeyboardInterrupt\u001b[0m: "
     ]
    }
   ],
   "source": [
    "model = train(1000, model, criterion, optimizer, train_loader, 0.003)"
   ]
  },
  {
   "cell_type": "code",
   "execution_count": 58,
   "metadata": {},
   "outputs": [
    {
     "name": "stdout",
     "output_type": "stream",
     "text": [
      "(261, 32, 32)\n",
      "(68121, 32, 32)\n"
     ]
    }
   ],
   "source": [
    "test_examples = [[]]\n",
    "reconstruction = []\n",
    "with torch.no_grad():\n",
    "    batch_features = torch.asarray(x_tst)\n",
    "    test_examples = np.array(x_tst)\n",
    "    batch_features = batch_features.view(-1, 1, i_height, i_width).to(device)\n",
    "    reconstruction = np.array(model(batch_features)).reshape(-1, i_height, i_width)\n",
    "\n",
    "print(test_examples.shape)\n",
    "print(reconstruction.shape)"
   ]
  },
  {
   "cell_type": "code",
   "execution_count": 59,
   "metadata": {},
   "outputs": [
    {
     "name": "stdout",
     "output_type": "stream",
     "text": [
      "0.5734387\n"
     ]
    },
    {
     "data": {
      "text/plain": [
       "<Figure size 2500x2500 with 0 Axes>"
      ]
     },
     "metadata": {},
     "output_type": "display_data"
    },
    {
     "data": {
      "image/png": "[encoded data removed]",
      "text/plain": [
       "<Figure size 2000x2000 with 6 Axes>"
      ]
     },
     "metadata": {},
     "output_type": "display_data"
    }
   ],
   "source": [
    "plt.figure(figsize=(25,25))\n",
    "print(np.max(np.array(reconstruction)))\n",
    "with torch.no_grad():\n",
    "    number = 3\n",
    "    plt.figure(figsize=(20, 20))\n",
    "    for index in range(number):\n",
    "        # display original\n",
    "        ax = plt.subplot(4, number, index + 1)\n",
    "        plt.imshow(test_examples[index])\n",
    "        plt.gray()\n",
    "        ax.get_xaxis().set_visible(False)\n",
    "        ax.get_yaxis().set_visible(False)\n",
    "\n",
    "        # display reconstruction\n",
    "        ax = plt.subplot(4, number, index + 1 + number)\n",
    "        plt.imshow(reconstruction[index])\n",
    "        plt.gray()\n",
    "        ax.get_xaxis().set_visible(False)\n",
    "        ax.get_yaxis().set_visible(False)\n",
    "    plt.show()"
   ]
  },
  {
   "cell_type": "code",
   "execution_count": 60,
   "metadata": {},
   "outputs": [],
   "source": [
    "test_examples = test_examples * max_value\n",
    "reconstruction = reconstruction * max_value"
   ]
  },
  {
   "cell_type": "code",
   "execution_count": 61,
   "metadata": {},
   "outputs": [
    {
     "name": "stdout",
     "output_type": "stream",
     "text": [
      "815.94324\n"
     ]
    },
    {
     "ename": "ValueError",
     "evalue": "Surface level must be within volume data range.",
     "output_type": "error",
     "traceback": [
      "\u001b[1;31m---------------------------------------------------------------------------\u001b[0m",
      "\u001b[1;31mValueError\u001b[0m                                Traceback (most recent call last)",
      "Cell \u001b[1;32mIn[61], line 5\u001b[0m\n\u001b[0;32m      3\u001b[0m v, f \u001b[39m=\u001b[39m make_mesh(test_examples, show_ratio,\u001b[39m1\u001b[39m)\n\u001b[0;32m      4\u001b[0m plt_3d(v, f, \u001b[39m'\u001b[39m\u001b[39mtest_examples.stl\u001b[39m\u001b[39m'\u001b[39m)\n\u001b[1;32m----> 5\u001b[0m v, f \u001b[39m=\u001b[39m make_mesh(reconstruction, show_ratio,\u001b[39m1\u001b[39;49m)\n\u001b[0;32m      6\u001b[0m plt_3d(v, f, \u001b[39m'\u001b[39m\u001b[39mreconstraction.stl\u001b[39m\u001b[39m'\u001b[39m)\n",
      "File \u001b[1;32md:\\Projects\\Skull_project\\MainFunctions.py:49\u001b[0m, in \u001b[0;36mmake_mesh\u001b[1;34m(image, threshold, step_size)\u001b[0m\n\u001b[0;32m     47\u001b[0m \u001b[39mdef\u001b[39;00m \u001b[39mmake_mesh\u001b[39m(image, threshold\u001b[39m=\u001b[39m\u001b[39m-\u001b[39m\u001b[39m300\u001b[39m, step_size\u001b[39m=\u001b[39m\u001b[39m1\u001b[39m):\n\u001b[0;32m     48\u001b[0m     p \u001b[39m=\u001b[39m image\u001b[39m.\u001b[39mtranspose(\u001b[39m2\u001b[39m,\u001b[39m1\u001b[39m,\u001b[39m0\u001b[39m)\n\u001b[1;32m---> 49\u001b[0m     verts, faces, norm, val \u001b[39m=\u001b[39m measure\u001b[39m.\u001b[39;49mmarching_cubes(p, threshold, step_size\u001b[39m=\u001b[39;49mstep_size, allow_degenerate\u001b[39m=\u001b[39;49m\u001b[39mTrue\u001b[39;49;00m) \n\u001b[0;32m     50\u001b[0m     \u001b[39mreturn\u001b[39;00m verts, faces\n",
      "File \u001b[1;32mc:\\Users\\ivan_\\AppData\\Local\\Programs\\Python\\Python310\\lib\\site-packages\\skimage\\measure\\_marching_cubes_lewiner.py:131\u001b[0m, in \u001b[0;36mmarching_cubes\u001b[1;34m(volume, level, spacing, gradient_direction, step_size, allow_degenerate, method, mask)\u001b[0m\n\u001b[0;32m    129\u001b[0m \u001b[39melif\u001b[39;00m method \u001b[39m!=\u001b[39m \u001b[39m'\u001b[39m\u001b[39mlewiner\u001b[39m\u001b[39m'\u001b[39m:\n\u001b[0;32m    130\u001b[0m     \u001b[39mraise\u001b[39;00m \u001b[39mValueError\u001b[39;00m(\u001b[39m\"\u001b[39m\u001b[39mmethod should be either \u001b[39m\u001b[39m'\u001b[39m\u001b[39mlewiner\u001b[39m\u001b[39m'\u001b[39m\u001b[39m or \u001b[39m\u001b[39m'\u001b[39m\u001b[39mlorensen\u001b[39m\u001b[39m'\u001b[39m\u001b[39m\"\u001b[39m)\n\u001b[1;32m--> 131\u001b[0m \u001b[39mreturn\u001b[39;00m _marching_cubes_lewiner(volume, level, spacing,\n\u001b[0;32m    132\u001b[0m                                gradient_direction, step_size,\n\u001b[0;32m    133\u001b[0m                                allow_degenerate, use_classic\u001b[39m=\u001b[39;49muse_classic,\n\u001b[0;32m    134\u001b[0m                                mask\u001b[39m=\u001b[39;49mmask)\n",
      "File \u001b[1;32mc:\\Users\\ivan_\\AppData\\Local\\Programs\\Python\\Python310\\lib\\site-packages\\skimage\\measure\\_marching_cubes_lewiner.py:160\u001b[0m, in \u001b[0;36m_marching_cubes_lewiner\u001b[1;34m(volume, level, spacing, gradient_direction, step_size, allow_degenerate, use_classic, mask)\u001b[0m\n\u001b[0;32m    158\u001b[0m     level \u001b[39m=\u001b[39m \u001b[39mfloat\u001b[39m(level)\n\u001b[0;32m    159\u001b[0m     \u001b[39mif\u001b[39;00m level \u001b[39m<\u001b[39m volume\u001b[39m.\u001b[39mmin() \u001b[39mor\u001b[39;00m level \u001b[39m>\u001b[39m volume\u001b[39m.\u001b[39mmax():\n\u001b[1;32m--> 160\u001b[0m         \u001b[39mraise\u001b[39;00m \u001b[39mValueError\u001b[39;00m(\u001b[39m\"\u001b[39m\u001b[39mSurface level must be within volume data range.\u001b[39m\u001b[39m\"\u001b[39m)\n\u001b[0;32m    161\u001b[0m \u001b[39m# spacing\u001b[39;00m\n\u001b[0;32m    162\u001b[0m \u001b[39mif\u001b[39;00m \u001b[39mlen\u001b[39m(spacing) \u001b[39m!=\u001b[39m \u001b[39m3\u001b[39m:\n",
      "\u001b[1;31mValueError\u001b[0m: Surface level must be within volume data range."
     ]
    }
   ],
   "source": [
    "print(reconstruction.max())\n",
    "show_ratio = 0\n",
    "v, f = make_mesh(test_examples, show_ratio,1)\n",
    "plt_3d(v, f, 'test_examples.stl')\n",
    "v, f = make_mesh(reconstruction, show_ratio,1)\n",
    "plt_3d(v, f, 'reconstraction.stl')"
   ]
  }
 ],
 "metadata": {
  "kernelspec": {
   "display_name": "Python 3",
   "language": "python",
   "name": "python3"
  },
  "language_info": {
   "codemirror_mode": {
    "name": "ipython",
    "version": 3
   },
   "file_extension": ".py",
   "mimetype": "text/x-python",
   "name": "python",
   "nbconvert_exporter": "python",
   "pygments_lexer": "ipython3",
   "version": "3.10.0"
  },
  "orig_nbformat": 4
 },
 "nbformat": 4,
 "nbformat_minor": 2
}
