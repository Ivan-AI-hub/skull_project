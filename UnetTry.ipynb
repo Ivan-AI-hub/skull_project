{
 "cells": [
  {
   "cell_type": "code",
   "execution_count": 1,
   "metadata": {},
   "outputs": [],
   "source": [
    "import numpy as np\n",
    "import pydicom as dicom\n",
    "import os\n",
    "import matplotlib.pyplot as plt\n",
    "import numpy as np\n",
    "import torch\n",
    "import torch.nn as nn\n",
    "import torchvision.transforms as transforms\n",
    "import skimage"
   ]
  },
  {
   "cell_type": "code",
   "execution_count": 2,
   "metadata": {},
   "outputs": [],
   "source": [
    "#original 512 x 512\n",
    "i_width = 512\n",
    "i_height = 512\n",
    "input_shape = i_width*i_height"
   ]
  },
  {
   "cell_type": "code",
   "execution_count": 3,
   "metadata": {},
   "outputs": [],
   "source": [
    "def AddImage(path):\n",
    "  ds = dicom.dcmread(path)\n",
    "\n",
    "  image = ds.pixel_array\n",
    "  image = image.astype(np.int16)\n",
    "  image[image == -2000] = 0\n",
    "  \n",
    "  # Convert to Hounsfield units (HU)\n",
    "  intercept = ds.RescaleIntercept\n",
    "  slope = ds.RescaleSlope\n",
    "  \n",
    "  if slope != 1:\n",
    "      image = slope * image.astype(np.float64)\n",
    "      image = image.astype(np.int16)\n",
    "      \n",
    "  image += np.int16(intercept)\n",
    "  image =  np.array(image, dtype=np.float32)\n",
    "  #resize for more faster nn learning\n",
    "  image = skimage.transform.resize(image, (i_height, i_width))\n",
    "  return image\n",
    "\n",
    "def AddImageToArray(x,folderPath):\n",
    "  patchs = os.listdir(folderPath)\n",
    "  for filename in sorted(patchs, key=len):\n",
    "    f = os.path.join(folderPath, filename)\n",
    "    if os.path.isfile(f):\n",
    "      x.append(AddImage(os.path.join(folderPath, filename)))\n",
    "    else:\n",
    "      AddImageToArray(x,f)"
   ]
  },
  {
   "cell_type": "code",
   "execution_count": 4,
   "metadata": {},
   "outputs": [],
   "source": [
    "x_trn = []\n",
    "x_tst = []\n",
    "\n",
    "AddImageToArray(x_trn ,'DICOM\\skulls\\skull8')\n",
    "AddImageToArray(x_tst ,'DICOM\\PA5\\ST1\\SE4')\n",
    "\n",
    "x_trn = np.array(x_trn, np.float32)\n",
    "x_tst = np.array(x_tst, np.float32)"
   ]
  },
  {
   "cell_type": "code",
   "execution_count": 5,
   "metadata": {},
   "outputs": [
    {
     "name": "stdout",
     "output_type": "stream",
     "text": [
      "3063.0\n",
      "234\n",
      "(234, 512, 512)\n",
      "0.43617368\n"
     ]
    }
   ],
   "source": [
    "max_value = np.max(x_trn)\n",
    "print(max_value)\n",
    "x_trn /= max_value\n",
    "x_tst /= max_value\n",
    "\n",
    "print(len(x_trn ))\n",
    "print(x_trn.shape)\n",
    "print(x_trn[0].max())"
   ]
  },
  {
   "cell_type": "code",
   "execution_count": 6,
   "metadata": {},
   "outputs": [],
   "source": [
    "class conv_block(nn.Module):\n",
    "    def __init__(self, in_c, out_c):\n",
    "        super().__init__()\n",
    "        self.conv1 = nn.Conv2d(in_c, out_c, kernel_size=3, padding=1)\n",
    "        self.bn1 = nn.BatchNorm2d(out_c)\n",
    "        self.conv2 = nn.Conv2d(out_c, out_c, kernel_size=3, padding=1)\n",
    "        self.bn2 = nn.BatchNorm2d(out_c)\n",
    "        self.relu = nn.ReLU()\n",
    "\n",
    "    def forward(self, inputs):\n",
    "        x = self.conv1(inputs)\n",
    "        x = self.bn1(x)\n",
    "        x = self.relu(x)\n",
    "        x = self.conv2(x)\n",
    "        x = self.bn2(x)\n",
    "        x = self.relu(x)\n",
    "        return x\n",
    "\n",
    "class encoder_block(nn.Module):\n",
    "    def __init__(self, in_c, out_c):\n",
    "        super().__init__()\n",
    "        self.conv = conv_block(in_c, out_c)\n",
    "        self.pool = nn.MaxPool2d((2, 2))\n",
    "    def forward(self, inputs):\n",
    "        x = self.conv(inputs)\n",
    "        p = self.pool(x)\n",
    "        return x, p\n",
    "    \n",
    "class decoder_block(nn.Module):\n",
    "    def __init__(self, in_c, out_c):\n",
    "        super().__init__()\n",
    "        self.up = nn.ConvTranspose2d(in_c, out_c, kernel_size=2, stride=2, padding=0)\n",
    "        self.conv = conv_block(out_c+out_c, out_c)\n",
    "    def forward(self, inputs, skip):\n",
    "        x = self.up(inputs)\n",
    "        x = torch.cat([x, skip], axis=1)\n",
    "        x = self.conv(x)\n",
    "        return x"
   ]
  },
  {
   "cell_type": "code",
   "execution_count": 7,
   "metadata": {},
   "outputs": [],
   "source": [
    "class build_unet(nn.Module):\n",
    "    def __init__(self):\n",
    "        super().__init__()\n",
    "        #\"\"\" Encoder \"\"\"\n",
    "        #self.e1 = encoder_block(1, 64)\n",
    "        #self.e2 = encoder_block(64, 128)\n",
    "        #self.e3 = encoder_block(128, 256)\n",
    "        #self.e4 = encoder_block(256, 512)\n",
    "        #\"\"\" Bottleneck \"\"\"\n",
    "        #self.b = conv_block(512, 1024)\n",
    "        #\"\"\" Decoder \"\"\"\n",
    "        #self.d1 = decoder_block(1024, 512)\n",
    "        #self.d2 = decoder_block(512, 256)\n",
    "        #self.d3 = decoder_block(256, 128)\n",
    "        #self.d4 = decoder_block(128, 64)\n",
    "        #\"\"\" Classifier \"\"\"\n",
    "        #self.outputs = nn.Conv2d(64, 1, kernel_size=1, padding=0)\n",
    "        \"\"\" Encoder \"\"\"\n",
    "        self.e1 = encoder_block(1, 64)\n",
    "        self.e2 = encoder_block(64, 128)\n",
    "        self.e3 = encoder_block(128, 256)\n",
    "        \"\"\" Bottleneck \"\"\"\n",
    "        self.b = conv_block(256,512)\n",
    "        \"\"\" Decoder \"\"\"\n",
    "        self.d2 = decoder_block(512, 256)\n",
    "        self.d3 = decoder_block(256, 128)\n",
    "        self.d4 = decoder_block(128, 64)\n",
    "        \"\"\" Classifier \"\"\"\n",
    "        self.outputs = nn.Conv2d(64, 1, kernel_size=1, padding=0)\n",
    "    def forward(self, inputs):\n",
    "        \"\"\" Encoder \"\"\"\n",
    "        s1, p1 = self.e1(inputs)\n",
    "        s2, p2 = self.e2(p1)\n",
    "        s3, p3 = self.e3(p2)\n",
    "        #s4, p4 = self.e4(p3)\n",
    "        \"\"\" Bottleneck \"\"\"\n",
    "        b = self.b(p3)\n",
    "        \"\"\" Decoder \"\"\"\n",
    "        #d1 = self.d1(b, s3)\n",
    "        d2 = self.d2(b, s3)\n",
    "        d3 = self.d3(d2, s2)\n",
    "        d4 = self.d4(d3, s1)\n",
    "        \"\"\" Classifier \"\"\"\n",
    "        outputs = self.outputs(d4)\n",
    "        return outputs"
   ]
  },
  {
   "cell_type": "code",
   "execution_count": 8,
   "metadata": {},
   "outputs": [],
   "source": [
    "#use gpu if available\n",
    "device = torch.device(\"cuda\" if torch.cuda.is_available() else \"cpu\")\n",
    "\n",
    "# create a model from `AE` autoencoder class\n",
    "# load it to the specified device, either gpu or cpu\n",
    "model = build_unet().to(device)\n",
    "\n",
    "# create an optimizer object\n",
    "# Adam optimizer with learning rate 1e-3\n",
    "optimizer = torch.optim.Adagrad(model.parameters(), lr=1e-5)\n",
    "\n",
    "# mean-squared error loss\n",
    "criterion = nn.MSELoss()"
   ]
  },
  {
   "cell_type": "code",
   "execution_count": 9,
   "metadata": {},
   "outputs": [],
   "source": [
    "def train(epochs, model, criterion, optimizer, train_loader):\n",
    "    for epoch in range(epochs):\n",
    "        loss = 0\n",
    "        for batch_features in train_loader:\n",
    "\n",
    "            batch_features = batch_features.view(-1, 1, i_height, i_width).to(device) #.view(-1, 1, i_height, i_width)\n",
    "            optimizer.zero_grad()\n",
    "            \n",
    "            # compute reconstructions\n",
    "            outputs = model(batch_features)\n",
    "            \n",
    "            # compute training reconstruction loss\n",
    "            train_loss = criterion(outputs, batch_features)\n",
    "            \n",
    "            # compute accumulated gradients\n",
    "            train_loss.backward()\n",
    "            \n",
    "            # perform parameter update based on current gradients\n",
    "            optimizer.step()\n",
    "            \n",
    "            # add the mini-batch training loss to epoch loss\n",
    "            loss += train_loss.item()\n",
    "        \n",
    "        # compute the epoch training loss\n",
    "        loss = loss / len(train_loader)\n",
    "        \n",
    "        # display the epoch training loss\n",
    "        print(\"epoch : {}/{}, loss = {:.6f}\".format(epoch + 1, epochs, loss))\n",
    "    \n",
    "    return model"
   ]
  },
  {
   "cell_type": "code",
   "execution_count": 10,
   "metadata": {},
   "outputs": [],
   "source": [
    "train_loader = torch.utils.data.DataLoader(\n",
    "    x_trn, batch_size=64, shuffle=True\n",
    ")\n",
    "\n",
    "test_loader = torch.utils.data.DataLoader(\n",
    "    x_tst, batch_size=32, shuffle=False\n",
    ")"
   ]
  },
  {
   "cell_type": "code",
   "execution_count": 11,
   "metadata": {},
   "outputs": [
    {
     "name": "stdout",
     "output_type": "stream",
     "text": [
      "torch.Size([64, 1, 512, 512])\n"
     ]
    }
   ],
   "source": [
    "model = train(1000, model, criterion, optimizer, train_loader)"
   ]
  },
  {
   "cell_type": "code",
   "execution_count": null,
   "metadata": {},
   "outputs": [],
   "source": [
    "test_examples = []\n",
    "with torch.no_grad():\n",
    "    for batch_features in test_loader:\n",
    "        test_examples = np.array(batch_features)\n",
    "        batch_features = batch_features.view(-1, 1, i_height, i_width).to(device)\n",
    "        reconstruction = model(batch_features)\n",
    "        break"
   ]
  },
  {
   "cell_type": "code",
   "execution_count": null,
   "metadata": {},
   "outputs": [],
   "source": [
    "plt.figure(figsize=(25,25))\n",
    "with torch.no_grad():\n",
    "    number = 32\n",
    "    plt.figure(figsize=(20, 4))\n",
    "    for index in range(number):\n",
    "        # display original\n",
    "        ax = plt.subplot(2, number, index + 1)\n",
    "        plt.imshow(test_examples[index].reshape(i_height, i_width))\n",
    "        plt.gray()\n",
    "        ax.get_xaxis().set_visible(False)\n",
    "        ax.get_yaxis().set_visible(False)\n",
    "\n",
    "        # display reconstruction\n",
    "        ax = plt.subplot(2, number, index + 1 + number)\n",
    "        plt.imshow(reconstruction[index].numpy().reshape(i_height, i_width))\n",
    "        plt.gray()\n",
    "        ax.get_xaxis().set_visible(False)\n",
    "        ax.get_yaxis().set_visible(False)\n",
    "    plt.show()"
   ]
  },
  {
   "cell_type": "code",
   "execution_count": null,
   "metadata": {},
   "outputs": [],
   "source": [
    "k = 0\n",
    "plt.figure(figsize=(25,25))\n",
    "for i in range(25):\n",
    "  plt.subplot(5,5, i+1)\n",
    "  plt.imshow(reconstruction[k].numpy().reshape(i_height, i_width), cmap='gray')\n",
    "  k+=1\n",
    "\n",
    "plt.show()"
   ]
  }
 ],
 "metadata": {
  "kernelspec": {
   "display_name": "Python 3",
   "language": "python",
   "name": "python3"
  },
  "language_info": {
   "codemirror_mode": {
    "name": "ipython",
    "version": 3
   },
   "file_extension": ".py",
   "mimetype": "text/x-python",
   "name": "python",
   "nbconvert_exporter": "python",
   "pygments_lexer": "ipython3",
   "version": "3.10.0"
  },
  "orig_nbformat": 4
 },
 "nbformat": 4,
 "nbformat_minor": 2
}
